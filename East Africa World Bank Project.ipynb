{
 "cells": [
  {
   "cell_type": "markdown",
   "metadata": {
    "scrolled": true
   },
   "source": [
    "<div style=\"margin: 2em 5em 0 0;\">\n",
    "    \n",
    "<p>\n",
    "   <br>\n",
    "   <span style=\"margin-left: 17%; vertical-align: text-bottom;\"></span>\n",
    "   <span style=\"float: right; vertical-align: text-bottom\"></span>\n",
    "</p>\n",
    "<br>\n",
    "<hr style=\"height: 1px; margin-top: -.2em\">\n",
    "\n",
    "\n",
    "<center>\n",
    "   <br>\n",
    "   <span style=\"font-size: 155%; font-weight: bold; font-family: \"Times New Roman\", Times, serif;\">\n",
    "      Jazz Region \n",
    "      <br style=\"margin-bottom: .6em\">\n",
    "      Python Project\n",
    "   </span>\n",
    "   <br>\n",
    "   <br>\n",
    "   <br>\n",
    "   <b>Data Science: Python</b>\n",
    "   <br>\n",
    "   <div style=\"font-size: 107%; margin-top: .3em\">\n",
    "      <b></b>\n",
    "      <br>\n",
    "      <br style=\"margin-bottom: .5em\">\n",
    "      <b>Project by</b>\n",
    "      <br>\n",
    "      Jinsoo Whang\n",
    "      <br>\n",
    "      <br>\n",
    "   </div>\n",
    "   <div style=\"margin-top: .5em\">November 4, 2020</div>\n",
    "</center>\n",
    "\n",
    "<br>\n",
    "<br>\n",
    "<span style=\"font-size: 120%;  font-family: \"Arial\", Helvetica, sans-serif;\">\n",
    "   <center><b>Introduction</b></center>\n",
    "   <p style=\"text-align: justify\"><i>In this notebook, we will analyze the “Jazz” region, which represents East African countries, South Africa, and Togo. We will start with a non-technical description of our region, mentioning its culture and features that are unique about it. We will deal with missing values by implementing techniques such as imputing values and using the mean and median, and also identify if the provided data can be trusted. Finally, we will explain how we chose the country that best represents our region and the Top 5 features that best exemplifies our region with data collected and analyzed in Python.</i></p>\n",
    "</div>\n",
    "\n",
    "</div>\n",
    "<br>\n",
    "<br>"
   ]
  },
  {
   "cell_type": "markdown",
   "metadata": {},
   "source": [
    "<h1> \"Jazz\" region introduction </h1>\n",
    "\n",
    "<br>\n",
    "<br>\n",
    "<span style=\"font-size: 110%; font-family: \"Arial\", Helvetica, sans-serif;\">\n",
    "   <p style=\"text-align: justify\"><i>The region is divided into 22 countries due to geopolitical changes, it shares a similar heritage and culture because most of the countries were part of the Swahili civilization and were influenced by the Arabic culture and Islam. The official languages of the region include English, French, Arabic, Afrikaans, Kiswahili and others. More than 60% of the population follow Christianity and more than 30% follow Islam. The region is rich in natural resources such as gold, copper, petroleum, uranium, tobacco, and natural gas. \n",
    "<br>\n",
    "<br>\n",
    "Many global companies are manufacturing in South East Africa because of the availability of cheap resources and labour. Even though the African economies have been growing, the African countries still have the lowest Happiness Index. These countries still lack proper education and health care facilities and other basic human rights. This region faces many challenges like poverty, illiteracy, poor infrastructure, poor health care facilities, child labour and malnourishment. \n",
    "</i></p>\n",
    "</div>\n",
    "\n",
    "</div>\n",
    "<br>\n"
   ]
  },
  {
   "cell_type": "markdown",
   "metadata": {},
   "source": [
    "<h1> Reliability of data provided </h1>\n",
    "\n",
    "<br>\n",
    "<br>\n",
    "<span style=\"font-size: 110%; font-family: \"Arial\", Helvetica, sans-serif;\">\n",
    "   <p style=\"text-align: justify\"><i>After conducting extensive research and comparing the statistics across the world on each of the features presented in the data, we concluded that a fair majority of the data presented was consistent with our research. \n",
    "However, we were able to make some observations in regards to the data on employment.\n",
    "<br>\n",
    "<br>      \n",
    "East and South Africa are ranked very high in terms of employment to population ratio and the average of contributions to employment from female and family workers are ranked top 3 in comparison to other regions according to World bank data. It is important to note why those numbers are that high as one might look at this data at face value. More in depth research shows that the numbers are this high not specifically due to female empowerment but due to the large number of informal jobs that are not regulated by the government and have very little to no pay for these women. So, while one might see these high rates as empowering, it’s important to note the quality and level of compensation from the kind of jobs women in these countries are able to contribute to as compared to the contributions in other countries in other regions like North America, Europe and Central Asia (Fetterolf).\n",
    "</i></p>\n",
    "</div>\n",
    "\n",
    "</div>\n",
    "<br>"
   ]
  },
  {
   "cell_type": "markdown",
   "metadata": {},
   "source": [
    "<h1> Strategy for Missing Values </h1>\n",
    "\n",
    "<br>\n",
    "<br>\n",
    "<span style=\"font-size: 120%; font-family: \"Arial\", Helvetica, sans-serif;\">\n",
    "   <p style=\"text-align: justify\"><i>For those columns that have more than 7 missing values (more than 30%), we have decided to omit from our analysis. The columns that have been omitted are the following: Adjusted net enrollment rate, Births attended by skilled health staff, Energy use (kg of oil equivalent) per 1,000 dollars GDP, GDP per unit of energy use, Income share held by lowest 20 percent, Literacy rate, adult total, Population, total, Poverty gap at national poverty lines, Pregnant women receiving prenatal care, School enrollment, primary and Trade. We decided to impute the values for the columns that we selected in the Top 5 Features: GNI per capita, Employment to population ratio, CO2 emissions, Life expectancy at birth, and Internet users. The source of information for imputing values is from the World Bank and Knoema. Something to look out for is that the data collected for the missing values are not from the same year as the original dataset. \n",
    "</i></p>\n",
    "</div>\n",
    "\n",
    "</div>\n",
    "<br>\n",
    "<br>"
   ]
  },
  {
   "cell_type": "markdown",
   "metadata": {},
   "source": [
    "<h1> Country that best represents the region </h1>"
   ]
  },
  {
   "cell_type": "markdown",
   "metadata": {},
   "source": [
    "<br>\n",
    "<br>\n",
    "<span style=\"font-size: 120%; font-family: \"Arial\", Helvetica, sans-serif;\">\n",
    "   <p style=\"text-align: justify\"><i>\n",
    "The main focus of this part of the report is to select a country that best represents this region using Python.\n",
    "</i></p>\n",
    "</div>\n",
    "\n",
    "</div>\n",
    "<br>\n",
    "<br>"
   ]
  },
  {
   "cell_type": "code",
   "execution_count": null,
   "metadata": {},
   "outputs": [],
   "source": [
    "# We will start by importing the excel file into the Jupyter Notebook\n",
    "\n",
    "# importing packages\n",
    "import pandas as pd  # data science essentials\n",
    "import matplotlib.pyplot as plt  # NEW: data visualization essentials\n",
    "import seaborn as sns  # NEW: enhanced data visualization\n",
    "\n",
    "# storing the path to the dataset\n",
    "file = \"./Final_Project_Dataset.xlsx\"\n",
    "\n",
    "# reading the file into Python through pandas\n",
    "dataset = pd.read_excel(io=file, sheet_name=\"Data\", header=0)\n",
    "\n",
    "# filter for jazz region\n",
    "jazz = dataset.loc[:, :][dataset.loc[:, 'Cool Name'] == 'Jazz'].copy()"
   ]
  },
  {
   "cell_type": "code",
   "execution_count": null,
   "metadata": {},
   "outputs": [],
   "source": [
    "# Imputing some missing values with data and research found from the internet\n",
    "\n",
    "# imputing missing value for Djibouti\n",
    "jazz.loc[50, 'GNI per capita, Atlas method (current US$)'] = 3540.0\n",
    "# imputing missing value for Somalia\n",
    "jazz.loc[174, 'GNI per capita, Atlas method (current US$)'] = 130.0\n",
    "# imputing missing value for South Sudan\n",
    "jazz.loc[176, 'GNI per capita, Atlas method (current US$)'] = 1090.0\n",
    "# imputing missing value for South Sudan\n",
    "jazz.loc[176, 'CO2 emissions (metric tons per capita)'] = 0.2\n",
    "# imputing missing value for South Sudan\n",
    "jazz.loc[176, 'Internet users (per 100 people)'] = 0.5379"
   ]
  },
  {
   "cell_type": "code",
   "execution_count": null,
   "metadata": {},
   "outputs": [],
   "source": [
    "\"\"\"\n",
    "We'll only choose the columns with missing values proportion less than or equal to 30%\n",
    "\"\"\"\n",
    "# Shows the proportion of null values in column by jazz region\n",
    "missing_value = jazz.isnull().mean().round(decimals=2)\n",
    "\n",
    "# Display the proportion of missing values on each column\n",
    "missing_value"
   ]
  },
  {
   "cell_type": "markdown",
   "metadata": {},
   "source": [
    "<br>\n",
    "<br>\n",
    "<span style=\"font-size: 120%; font-family: \"Arial\", Helvetica, sans-serif;\">\n",
    "   <p style=\"text-align: justify\"><i>\n",
    "We established that all the columns that had more than seven missing values (around 30% of the countries in that region) would not be used for our analysis.\n",
    "</i></p>\n",
    "</div>\n",
    "\n",
    "</div>\n",
    "<br>\n",
    "<br>"
   ]
  },
  {
   "cell_type": "code",
   "execution_count": null,
   "metadata": {},
   "outputs": [],
   "source": [
    "# How to get the closest country to average\n",
    "\n",
    "# First Step, Find the average of each column from the data\n",
    "jazz_average = jazz.mean().round(decimals=2)\n",
    "\n",
    "# Display the average of each feature\n",
    "jazz_average"
   ]
  },
  {
   "cell_type": "code",
   "execution_count": null,
   "metadata": {},
   "outputs": [],
   "source": [
    "# list of columns that do not have missing values more than 30%\n",
    "df_columns = [\n",
    "    'AIDS estimated deaths (UNAIDS estimates)',\n",
    "    'Adolescent fertility rate (births per 1,000 women ages 15-19)',\n",
    "    'Antiretroviral therapy coverage (% of people living with HIV)',\n",
    "    'CO2 emissions (metric tons per capita)',\n",
    "    'Contributing family workers, female (% of female employment)',\n",
    "    'Contributing family workers, male (% of male employment)',\n",
    "    'Contributing family workers, total (% of total employment)',\n",
    "    'Employment to population ratio, 15+, female (%) (modeled ILO estimate)',\n",
    "    'Employment to population ratio, 15+, male (%) (modeled ILO estimate)',\n",
    "    'Employment to population ratio, 15+, total (%) (modeled ILO estimate)',\n",
    "    'Fertility rate, total (births per woman)',\n",
    "    'GDP per person employed (constant 2011 PPP $)',\n",
    "    'GNI per capita, Atlas method (current US$)',\n",
    "    'Immunization, measles (% of children ages 12-23 months)',\n",
    "    'Improved sanitation facilities (% of population with access)',\n",
    "    'Improved water source (% of population with access)',\n",
    "    'Incidence of tuberculosis (per 100,000 people)',\n",
    "    'Internet users (per 100 people)',\n",
    "    'Life expectancy at birth, total (years)',\n",
    "    'Maternal mortality ratio (modeled estimate, per 100,000 live births)',\n",
    "    'Mobile cellular subscriptions (per 100 people)',\n",
    "    'Mortality rate, infant (per 1,000 live births)',\n",
    "    'Net ODA received per capita (current US$)', 'Population, total',\n",
    "    'Prevalence of HIV, total (% of population ages 15-49)',\n",
    "    'Prevalence of undernourishment (% of population)',\n",
    "    'Proportion of seats held by women in national parliaments (%)',\n",
    "    'Reported cases of malaria',\n",
    "    'Self-employed, total (% of total employment)', 'Trade (% of GDP)',\n",
    "    'Tuberculosis death rate (per 100,000 people), including HIV'\n",
    "]\n",
    "\n",
    "# instantiating an empty list\n",
    "empty_list = []\n",
    "\n",
    "# looping on each column to add the country closest to average into empty list\n",
    "for each_column in df_columns:\n",
    "    jazz_sort = jazz.iloc[(jazz[each_column] -\n",
    "                           jazz[each_column].mean()).abs().argsort()[:1]]\n",
    "    empty_list.append(jazz_sort['Country Name'])"
   ]
  },
  {
   "cell_type": "markdown",
   "metadata": {},
   "source": [
    "<br>\n",
    "<br>\n",
    "<span style=\"font-size: 120%; font-family: \"Arial\", Helvetica, sans-serif;\">\n",
    "   <p style=\"text-align: justify\"><i>\n",
    "This will add the country closest to the average in an empty list. Then, we manually place the countries in the frequency_list below.\n",
    "</i></p>\n",
    "</div>\n",
    "\n",
    "</div>\n",
    "<br>\n",
    "<br>"
   ]
  },
  {
   "cell_type": "code",
   "execution_count": null,
   "metadata": {},
   "outputs": [],
   "source": [
    "# list of country names\n",
    "countries_list = {\n",
    "    \"Burundi\", \"Botswana\", \"Congo, Rep.\", \"Djibouti\", \"Eritrea\", \"Ethiopia\",\n",
    "    \"Kenya\", \"Lesotho\", \"Madagascar\", \"Mozambique\", \"Malawi\", \"Namibia\",\n",
    "    \"Rwanda\", \"Somalia\", \"South Sudan\", \"Eswatini\", \"Tanzania\", \"Uganda\",\n",
    "    \"South Africa\", \"Zambia\", \"Zimbabwe\", \"Togo\"\n",
    "}\n",
    "\n",
    "# frequency of times country is closest to average\n",
    "frequency_list = [\n",
    "    \"Zambia\", \"Kenya\", \"Burundi\", \"South Sudan\", \"Djibouti\", \"Mozambique\",\n",
    "    \"Togo\", \"South Sudan\", \"Somalia\", \"South Sudan\", \"Madagascar\",\n",
    "    \"South Sudan\", \"Kenya\", \"Mozambique\", \"Namibia\", \"South Sudan\", \"Zambia\",\n",
    "    \"Lesotho\", \"Namibia\", \"Zimbabwe\", \"Lesotho\", \"Zimbabwe\", \"South Africa\",\n",
    "    \"Madagascar\", \"Uganda\", \"Zimbabwe\", \"Ethiopia\", \"Malawi\", \"Kenya\", \"Kenya\",\n",
    "    \"Namibia\"\n",
    "]\n",
    "\n",
    "dicionario = {}\n",
    "for country in frequency_list:\n",
    "    if country in countries_list:\n",
    "        count = 1\n",
    "        if country in dicionario:\n",
    "            count = int(dicionario[country].split(' ')[-1]) + 1\n",
    "        dicionario[country] = country + \" \" + str(count)\n",
    "\n",
    "for country in countries_list:\n",
    "    if country not in frequency_list:\n",
    "        dicionario[country] = country + \" \" + str(0)\n",
    "\n",
    "for key in dicionario:\n",
    "    print(dicionario[key])"
   ]
  },
  {
   "cell_type": "markdown",
   "metadata": {},
   "source": [
    "<br>\n",
    "<br>\n",
    "<span style=\"font-size: 120%; font-family: \"Arial\", Helvetica, sans-serif;\">\n",
    "   <p style=\"text-align: justify\"><i>\n",
    "After creating an empty list, we made a loop that found the country closest to the average of each column. With this data, we used Python to count which country had the most columns with values closest to the average. Thus, it was possible to create a list and discover the country that best represents the region due to the frequency of numbers closest to the average of the region. From the results, South Sudan is the country that best represents the region, followed by Kenya and Zimbabwe. \n",
    "</i></p>\n",
    "</div>\n",
    "\n",
    "</div>\n",
    "<br>\n",
    "<br>"
   ]
  },
  {
   "cell_type": "markdown",
   "metadata": {},
   "source": [
    "<h1> Top 5 Features that best exemplify the \"Jazz\" region </h1>\n",
    "\n",
    "<br>\n",
    "<br>\n",
    "<span style=\"font-size: 120%; font-family: \"Arial\", Helvetica, sans-serif;\">\n",
    "   <p style=\"text-align: justify\"><i>\n",
    "The top 5 features we chose for the “Jazz” region was based on our intention to present a holistic view of our region. From the 41 feature columns presented in the data, we could identify about 5 categories (economy, employment, environment, health and infrastructure). We have decided to choose a feature that is most representative for each of the 5 categories. We chose GNI per capita, Atlas method (current US$) to represent economy, Employment to population ratio, 15+, total (%) (modeled ILO estimate) to represent employment, CO2 emissions (metric tons per capita) to represent environment, Life expectancy at birth, total (years) to represent health, and Internet users (per 100 people) to represent infrastructure.\n",
    "</i></p>\n",
    "</div>\n",
    "\n",
    "</div>\n",
    "<br>\n",
    "<br>"
   ]
  },
  {
   "cell_type": "code",
   "execution_count": null,
   "metadata": {},
   "outputs": [],
   "source": [
    "# First, we start the analysis by doing a correlation chart among the 5 features\n",
    "\n",
    "# Creating a list for the 5 features\n",
    "jazz_corr_lst = [\n",
    "    'GNI per capita, Atlas method (current US$)',\n",
    "    'Employment to population ratio, 15+, total (%) (modeled ILO estimate)',\n",
    "    'CO2 emissions (metric tons per capita)',\n",
    "    'Life expectancy at birth, total (years)',\n",
    "    'Internet users (per 100 people)'\n",
    "]\n",
    "\n",
    "# Creating a variable that takes the correlation of the 5 features\n",
    "jazz_corr = jazz[jazz_corr_lst].corr(method='pearson').round(decimals=2)"
   ]
  },
  {
   "cell_type": "code",
   "execution_count": null,
   "metadata": {
    "scrolled": false
   },
   "outputs": [],
   "source": [
    "# Creating a correlation heatmap\n",
    "\n",
    "# setting plot size\n",
    "fig, ax = plt.subplots(figsize=(7, 7))\n",
    "\n",
    "# plotting in heatmap\n",
    "sns.heatmap(data=jazz_corr,\n",
    "            cmap='Blues',\n",
    "            square=True,\n",
    "            annot=True,\n",
    "            linecolor='black',\n",
    "            linewidths=0.5)\n",
    "\n",
    "# title and displaying the plot\n",
    "plt.title(\"\"\"\n",
    "Linear Correlation Heatmap for Country Features\n",
    "\"\"\")\n",
    "\n",
    "plt.show()"
   ]
  },
  {
   "cell_type": "markdown",
   "metadata": {},
   "source": [
    "<br>\n",
    "<br>\n",
    "<span style=\"font-size: 120%; font-family: \"Arial\", Helvetica, sans-serif;\">\n",
    "   <p style=\"text-align: justify\"><i>\n",
    "From this correlation table, it seems that GNI per capita and CO2 emissions have a strong correlation with 0.74. A study about the impact of the economy on carbon emissions shows that as the economy grows so does the increase of carbon emissions in the region (Li, 2019). Another strong correlation is between GNI per capita and Internet users with 0.62. Poushter’s (2016) article explains that even though internet access is growing worldwide, it is much higher in advanced economies.\n",
    "</i></p>\n",
    "</div>\n",
    "\n",
    "</div>\n",
    "<br>\n",
    "<br>"
   ]
  },
  {
   "cell_type": "code",
   "execution_count": null,
   "metadata": {
    "scrolled": false
   },
   "outputs": [],
   "source": [
    "# boxplot of GNI by region\n",
    "\n",
    "# setting figure size\n",
    "fig, ax = plt.subplots(figsize=[10, 10])\n",
    "\n",
    "# create a boxplot\n",
    "sns.boxplot(x='GNI per capita, Atlas method (current US$)',\n",
    "            y='Cool Name',\n",
    "            hue=None,\n",
    "            orient='h',\n",
    "            data=dataset)\n",
    "\n",
    "# compiling and displaying the plot\n",
    "plt.title(\"\"\"\n",
    "Boxplot of GNI per capita by region\n",
    "\"\"\")\n",
    "plt.xlabel(xlabel=\"GNI per capita\")\n",
    "plt.show()"
   ]
  },
  {
   "cell_type": "markdown",
   "metadata": {},
   "source": [
    "<br>\n",
    "<br>\n",
    "<span style=\"font-size: 120%; font-family: \"Arial\", Helvetica, sans-serif;\">\n",
    "   <p style=\"text-align: justify\"><i>\n",
    "The graph shows that the “Jazz” region is one of the lowest in GNI per capita. The other 3 regions that are similar are Northern Sub-Saharan Africa, Sub-Saharan Africa and Central Asia. The region called “Sentinel Prime”, represents the global average and “Jazz” region’s average national income is much lower than the world average and can be considered the lowest in the world.The “Jazz” boxplot is to the left of the global average. This means that “Jazz” is one of the poorest regions in the world.\n",
    "</i></p>\n",
    "</div>\n",
    "\n",
    "</div>\n",
    "<br>\n",
    "<br>"
   ]
  },
  {
   "cell_type": "code",
   "execution_count": null,
   "metadata": {},
   "outputs": [],
   "source": [
    "# boxplot of Employment to population ratio by region\n",
    "\n",
    "# setting figure size\n",
    "fig, ax = plt.subplots(figsize=[10, 10])\n",
    "\n",
    "# create a boxplot\n",
    "sns.boxplot(\n",
    "    x='Employment to population ratio, 15+, total (%) (modeled ILO estimate)',\n",
    "    y='Cool Name',\n",
    "    hue=None,\n",
    "    orient='h',\n",
    "    data=dataset)\n",
    "\n",
    "# compiling and displaying the plot\n",
    "plt.title(\"\"\"\n",
    "Boxplot of Employment to population ratio by region\n",
    "\"\"\")\n",
    "plt.xlabel(\n",
    "    xlabel=\n",
    "    \"Employment to population ratio, 15+, total (%) (modeled ILO estimate)\")\n",
    "plt.show()"
   ]
  },
  {
   "cell_type": "markdown",
   "metadata": {},
   "source": [
    "<br>\n",
    "<br>\n",
    "<span style=\"font-size: 120%; font-family: \"Arial\", Helvetica, sans-serif;\">\n",
    "   <p style=\"text-align: justify\"><i>\n",
    "The graph shows that “Jazz” has the highest employment to population ratio. At first sight, it seems strange that one of the lowest GNI per capita regions in the world would have the largest Employment to population ratio. The answer is that most of the employment found in the “Jazz” region is different from other regions. An article explains that 66 percent of the employment in the region is from the informal sector, as revealed by the International Labour Organization (Mwita). \n",
    "</i></p>\n",
    "</div>\n",
    "\n",
    "</div>\n",
    "<br>\n",
    "<br>"
   ]
  },
  {
   "cell_type": "code",
   "execution_count": null,
   "metadata": {},
   "outputs": [],
   "source": [
    "# boxplot of CO2 Emissions by region\n",
    "\n",
    "# setting figure size\n",
    "fig, ax = plt.subplots(figsize=[10, 10])\n",
    "\n",
    "# create a boxplot\n",
    "sns.boxplot(x='CO2 emissions (metric tons per capita)',\n",
    "            y='Cool Name',\n",
    "            hue=None,\n",
    "            orient='h',\n",
    "            data=dataset)\n",
    "\n",
    "# compiling and displaying the plot\n",
    "plt.title(\"\"\"\n",
    "CO2 emissions\n",
    "\"\"\")\n",
    "plt.xlabel(xlabel=\"CO2 emissions (metric tons per capita)\")\n",
    "plt.show()"
   ]
  },
  {
   "cell_type": "markdown",
   "metadata": {},
   "source": [
    "<br>\n",
    "<br>\n",
    "<span style=\"font-size: 120%; font-family: \"Arial\", Helvetica, sans-serif;\">\n",
    "   <p style=\"text-align: justify\"><i>\n",
    "As mentioned above in the correlation among the 5 column features, the smaller the economy, the less emissions it produces. Therefore, as “Jazz” has one of the least GNI per capita, it probably means that it produces one of the least CO2 emissions. The only other region that is similar is “Sideswipe”, which belongs to the Sub-Saharan Africa region.\n",
    "</i></p>\n",
    "</div>\n",
    "\n",
    "</div>\n",
    "<br>\n",
    "<br>"
   ]
  },
  {
   "cell_type": "code",
   "execution_count": null,
   "metadata": {},
   "outputs": [],
   "source": [
    "# boxplot of Life expectancy at birth by region\n",
    "\n",
    "# setting figure size\n",
    "fig, ax = plt.subplots(figsize=[10, 10])\n",
    "\n",
    "# create a boxplot\n",
    "sns.boxplot(x='Life expectancy at birth, total (years)',\n",
    "            y='Cool Name',\n",
    "            hue=None,\n",
    "            orient='h',\n",
    "            data=dataset)\n",
    "\n",
    "# compiling and displaying the plot\n",
    "plt.title(\"\"\"\n",
    "Boxplot of Life expectancy at birth by region\n",
    "\"\"\")\n",
    "plt.xlabel(xlabel=\"Life expectancy at birth, total (years)\")\n",
    "plt.show()"
   ]
  },
  {
   "cell_type": "markdown",
   "metadata": {},
   "source": [
    "<br>\n",
    "<br>\n",
    "<span style=\"font-size: 120%; font-family: \"Arial\", Helvetica, sans-serif;\">\n",
    "   <p style=\"text-align: justify\"><i>\n",
    "As shown in the graph, the boxplot of the “Jazz” region is more to the left than any other region. This means that the “Jazz” region has the lowest life expectancy at birth. The global average is 70 years old, but the “Jazz” region ranges from the high 40s to the mid 60s with the average of 55 years old. The life expectancy rate tells us about the overall development in the region including quality of life, education and health care facilities.\n",
    "</i></p>\n",
    "</div>\n",
    "\n",
    "</div>\n",
    "<br>\n",
    "<br>"
   ]
  },
  {
   "cell_type": "code",
   "execution_count": null,
   "metadata": {},
   "outputs": [],
   "source": [
    "# boxplot of Internet users by region\n",
    "\n",
    "# setting figure size\n",
    "fig, ax = plt.subplots(figsize=[10, 10])\n",
    "\n",
    "# create a boxplot\n",
    "sns.boxplot(x='Internet users (per 100 people)',\n",
    "            y='Cool Name',\n",
    "            hue=None,\n",
    "            orient='h',\n",
    "            data=dataset)\n",
    "\n",
    "# compiling and displaying the plot\n",
    "plt.title(\"\"\"\n",
    "Boxplot of Internet users by region\n",
    "\"\"\")\n",
    "plt.xlabel(xlabel=\"Internet users (per 100 people)\")\n",
    "plt.show()"
   ]
  },
  {
   "cell_type": "markdown",
   "metadata": {},
   "source": [
    "<br>\n",
    "<br>\n",
    "<span style=\"font-size: 120%; font-family: \"Arial\", Helvetica, sans-serif;\">\n",
    "   <p style=\"text-align: justify\"><i>\n",
    "The “Jazz” region is the region with the least Internet users in the world. It is very far from the global average. This could explain the fact that even though most of the “Jazz” population are employed, the jobs are not related to the internet, which tends to be more technical and give higher salaries.\n",
    "</i></p>\n",
    "</div>\n",
    "\n",
    "</div>\n",
    "<br>\n",
    "<br>"
   ]
  },
  {
   "cell_type": "markdown",
   "metadata": {},
   "source": [
    "<h1> Conclusion </h1>\n",
    "\n",
    "<br>\n",
    "<br>\n",
    "<span style=\"font-size: 120%; font-family: \"Arial\", Helvetica, sans-serif;\">\n",
    "   <p style=\"text-align: justify\"><i>\n",
    "Our analysis took a holistic view of the region. We focused on 5 different categories which can be considered major indicators of development and found out that the “Jazz” which lies in the Sub-Saharan region of Africa tends to be the lowest or one of the least developed in the world. The “Jazz” region has low metrics in health, economy, infrastructure, and employment. Even though “Jazz” is doing well in the environment metric, the reason is mainly because the “Jazz” region has one of the lowest GNI per capita.\n",
    "</i></p>\n",
    "</div>\n",
    "\n",
    "</div>\n",
    "<br>\n",
    "<br>"
   ]
  },
  {
   "cell_type": "markdown",
   "metadata": {},
   "source": [
    "<h1> Bibliography </h1>\n",
    "\n",
    "<br>\n",
    "<br>\n",
    "<span style=\"font-size: 120%; font-family: \"Arial\", Helvetica, sans-serif;\">\n",
    "   <p style=\"text-align: justify\"><i>\n",
    "Fetterolf, Janell. “Women Make up 40% or More of Workforce in Many Countries | Pew Research Center.” Pew Research Center, https://www.facebook.com/pewresearch, 7 Mar. 2017, https://www.pewresearch.org/fact-tank/2017/03/07/in-many-countries-at-least-four-in-ten-in-the-labor-force-are-women/.\n",
    "\n",
    "Knoema. “Somalia - Public Economy » GNI per Capita, Atlas Method (Current US Dollar).” Knoema, 2011, https://knoema.com/QOGISD2020JAN/quality-of-government-institute-standard-dataset-version-january-2020?tsId=2918450.\n",
    "\n",
    "Li, Shiran. “The Impact of Economy on Carbon Emissions: An Empirical Study Based on the Synergistic Effect of Gender Factors.” PubMed Central (PMC), 2 Oct. 2019, https://www.ncbi.nlm.nih.gov/pmc/articles/PMC6801509/.\n",
    "\n",
    "Mwita, Chacha. “The State of East Africa’s Informal Sector - The Exchange.” The Exchange, https://www.facebook.com/TheExchangeEA/, 19 Nov. 2019, https://theexchange.africa/east-africa/the-state-of-east-africas-informal-sector/.\n",
    "\n",
    "Poushter, Jacob. “Internet Access Grows Worldwide but Remains Higher in Advanced Economies | Pew Research Center.” Pew Research Center’s Global Attitudes Project, https://www.facebook.com/pewresearch, 22 Feb. 2016, https://www.pewresearch.org/global/2016/02/22/internet-access-growing-worldwide-but-remains-higher-in-advanced-economies/.\n",
    "\n",
    "World Bank. “GNI per Capita, Atlas Method (Current US$) - Madagascar | Data.” World Bank Open Data | Data, 2017, https://data.worldbank.org/indicator/NY.GNP.PCAP.CD?locations=MG.\n",
    "\n",
    "</i></p>\n",
    "</div>\n",
    "\n",
    "</div>\n",
    "<br>\n",
    "<br>"
   ]
  },
  {
   "cell_type": "code",
   "execution_count": null,
   "metadata": {},
   "outputs": [],
   "source": []
  }
 ],
 "metadata": {
  "kernelspec": {
   "display_name": "Python 3",
   "language": "python",
   "name": "python3"
  },
  "language_info": {
   "codemirror_mode": {
    "name": "ipython",
    "version": 3
   },
   "file_extension": ".py",
   "mimetype": "text/x-python",
   "name": "python",
   "nbconvert_exporter": "python",
   "pygments_lexer": "ipython3",
   "version": "3.8.3"
  },
  "toc": {
   "base_numbering": 1,
   "nav_menu": {},
   "number_sections": true,
   "sideBar": true,
   "skip_h1_title": false,
   "title_cell": "Table of Contents",
   "title_sidebar": "Contents",
   "toc_cell": false,
   "toc_position": {},
   "toc_section_display": true,
   "toc_window_display": false
  },
  "varInspector": {
   "cols": {
    "lenName": 16,
    "lenType": 16,
    "lenVar": 40
   },
   "kernels_config": {
    "python": {
     "delete_cmd_postfix": "",
     "delete_cmd_prefix": "del ",
     "library": "var_list.py",
     "varRefreshCmd": "print(var_dic_list())"
    },
    "r": {
     "delete_cmd_postfix": ") ",
     "delete_cmd_prefix": "rm(",
     "library": "var_list.r",
     "varRefreshCmd": "cat(var_dic_list()) "
    }
   },
   "types_to_exclude": [
    "module",
    "function",
    "builtin_function_or_method",
    "instance",
    "_Feature"
   ],
   "window_display": false
  }
 },
 "nbformat": 4,
 "nbformat_minor": 4
}
